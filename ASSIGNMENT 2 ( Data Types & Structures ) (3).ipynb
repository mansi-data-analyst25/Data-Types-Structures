{
 "cells": [
  {
   "cell_type": "markdown",
   "id": "d65f80d7-fdb1-4591-8162-d3897d2ee879",
   "metadata": {},
   "source": [
    "                                                    ** THEORETICAL QUESTIONS **"
   ]
  },
  {
   "cell_type": "markdown",
   "id": "f49bf65b-6a46-4489-9bdd-d5e23de930f7",
   "metadata": {},
   "source": [
    "# QUES 1: What are data structures, and why are they important?"
   ]
  },
  {
   "cell_type": "markdown",
   "id": "72785b6c-80e8-400c-8c1a-fab3d2881f27",
   "metadata": {},
   "source": [
    "\n",
    "ANS: Data structures are ways of organizing and storing data in a computer so that it can be accessed and modified efficiently. They define the layout and relationship of data elements, making it easier to perform operations like searching, inserting, deleting, or updating data.\n",
    "\n",
    "#Common Types of Data Structures:\n",
    "\n",
    "> Arrays - Fixed-size, indexed collections of elements.\n",
    "> Linked Lists - Chains of nodes where each node contains data and a pointer to the next.\n",
    "> Stacks and Queues - LIFO and FIFO structures for ordered data processing.\n",
    "> Trees (e.g., Binary Trees, Heaps) - Hierarchical structures for fast lookups and sorting.\n",
    "> Graphs - Nodes connected by edges; useful in networks and pathfinding.\n",
    "> Hash Tables - Key-value pairs for constant-time lookups.\n",
    "\n",
    "#Why Data Structures Are Important?\n",
    "\n",
    "> Efficiency - The right data structure can greatly improve the performance of an algorithm.\n",
    "> Scalability - Efficient data handling becomes crucial as data size grows.\n",
    "> Code Simplicity and Maintainability - Proper structures reduce code complexity.\n",
    "> Real-world Modeling - Structures like graphs and trees represent real-world systems (e.g., maps, organizational charts).\n",
    "> Foundation for Algorithms - Many algorithms depend on specific structures to work optimally."
   ]
  },
  {
   "cell_type": "markdown",
   "id": "0adcc375-4b99-42d6-9f7a-aca6f58a18d5",
   "metadata": {},
   "source": [
    "# QUES 2: Explain the difference between mutable and immutable data types with examples."
   ]
  },
  {
   "cell_type": "markdown",
   "id": "2b44d430-adf5-44f6-add3-c9aec64ea63b",
   "metadata": {},
   "source": [
    "\n",
    "ANS: The difference between mutable and immutable data types lies in whether or not their content can be changed after they are created.\n",
    "\n",
    "#Mutable Data Types: These can be modified after creation. You can change, add, or remove elements without changing the object’s identity.\n",
    "\n",
    "> List\n",
    "> Dictionary\n",
    "> Set\n",
    "> Bytearray\n",
    "\n",
    "#Immutable Data Types: These cannot be changed after creation. Any operation that modifies the value actually creates a new object.\n",
    "\n",
    "> Integer\n",
    "> Float\n",
    "> String\n",
    "> Tuple\n",
    "> Frozen Set\n",
    "> Bytes"
   ]
  },
  {
   "cell_type": "code",
   "execution_count": 1,
   "id": "004b7448-3476-4465-9bed-f0b891b00a0c",
   "metadata": {},
   "outputs": [
    {
     "name": "stdout",
     "output_type": "stream",
     "text": [
      "[90, 2, 3]\n"
     ]
    }
   ],
   "source": [
    "my_list = [1, 2, 3]\n",
    "my_list[0] = 90  # Changing the first element\n",
    "print(my_list)   "
   ]
  },
  {
   "cell_type": "code",
   "execution_count": 2,
   "id": "27a396ec-4ca8-4c16-9137-b7784a80a9bb",
   "metadata": {},
   "outputs": [
    {
     "name": "stdout",
     "output_type": "stream",
     "text": [
      "AWESOME\n"
     ]
    }
   ],
   "source": [
    "my_string = \"awesome\"\n",
    "my_string = my_string.upper()  # Creates a new string\n",
    "print(my_string)  "
   ]
  },
  {
   "cell_type": "markdown",
   "id": "70ecd789-a1f0-41a5-86c0-14e5795dbfaa",
   "metadata": {},
   "source": [
    "# QUES 3: What are the main differences between lists and tuples in Python?"
   ]
  },
  {
   "cell_type": "markdown",
   "id": "5172393e-ed7e-4fad-b540-76a182ef548d",
   "metadata": {},
   "source": [
    "\n",
    "ANS: The main differences between lists and tuples in Python center around mutability, syntax, performance, and usage. \n",
    "\n",
    "#Key Differences:\n",
    "\n",
    "#Lists:\n",
    "\n",
    "> Mutability - Mutable (can be changed)\t\n",
    "> Syntax - Square brackets: [1, 2, 3]\n",
    "> Performance - Slightly slower (more overhead)\t\n",
    "> Use Case - When you need to modify data\t\n",
    "> Methods Available - Many (e.g., append, pop)\t\n",
    "> Memory Usage - More\n",
    "\n",
    "#Tuples:\n",
    "\n",
    "> Mutability - Immutable (cannot be changed)\n",
    "> Syntax - Parentheses: (1, 2, 3)\n",
    "> Performance - Faster (less overhead)\n",
    "> Use Case - When data should not change\n",
    "> Methods Available - Few (e.g., count, index)\n",
    "> Memory Usage - Less"
   ]
  },
  {
   "cell_type": "code",
   "execution_count": 3,
   "id": "4e358012-eb62-466a-b22c-d134f0936141",
   "metadata": {},
   "outputs": [
    {
     "name": "stdout",
     "output_type": "stream",
     "text": [
      "[1, 2, 3, 4]\n"
     ]
    }
   ],
   "source": [
    "my_list = [1, 2, 3]\n",
    "my_list.append(4)\n",
    "print(my_list)  "
   ]
  },
  {
   "cell_type": "code",
   "execution_count": 4,
   "id": "4afd304b-46ad-4cac-9f15-a119bb880f90",
   "metadata": {},
   "outputs": [
    {
     "name": "stdout",
     "output_type": "stream",
     "text": [
      "(1, 2, 3)\n"
     ]
    }
   ],
   "source": [
    "my_tuple = (1, 2, 3)\n",
    "# my_tuple.append(4)     # This will raise an AttributeError\n",
    "print(my_tuple) "
   ]
  },
  {
   "cell_type": "code",
   "execution_count": 16,
   "id": "4eaa5860-5c44-43eb-a00c-e24a39d2c271",
   "metadata": {},
   "outputs": [
    {
     "name": "stdout",
     "output_type": "stream",
     "text": [
      "{'name': 'Mansi', 'age': 25}\n"
     ]
    }
   ],
   "source": [
    "my_dict = {'name': 'Mansi', 'age': 25}\n",
    "print (my_dict)"
   ]
  },
  {
   "cell_type": "markdown",
   "id": "e42dcdc1-02b9-46bf-8e72-b49cc73e8458",
   "metadata": {},
   "source": [
    "# QUES 4: Describe how dictionaries store data."
   ]
  },
  {
   "cell_type": "markdown",
   "id": "f20bcc4b-fa38-4168-8056-b58230dcd0b7",
   "metadata": {},
   "source": [
    "\n",
    "ANS: Dictionaries in most programming languages, including Python, store data using a key-value pair structure.\n",
    "\n",
    "#How it works under the hood?\n",
    "\n",
    "#Key-Value Pair Structure - Each item in a dictionary is a pair where:\n",
    "\n",
    "> The key is unique and used to identify the item.\n",
    "> The value is the data associated with the key.\n",
    "\n",
    "#Hashing - Dictionaries use a hash table to store data efficiently. When a key is added:\n",
    "\n",
    "> The dictionary computes a hash code from the key using a hash function.\n",
    "> This hash code determines the index in an internal array where the value is stored.\n",
    "\n",
    "#Collision Handling - Sometimes, two different keys can produce the same hash code (a collision). Dictionaries handle this with techniques like:\n",
    "\n",
    "> Chaining (storing multiple key-value pairs at the same array index using a linked list or another structure).\n",
    "> Open addressing (finding another free slot using probing).\n",
    "\n",
    "#Fast Lookup - dictionary lookups (e.g., person[\"name\"]) are very fast—on average O(1) time complexity."
   ]
  },
  {
   "cell_type": "code",
   "execution_count": 17,
   "id": "7c2f4d77-c3d6-4da3-848d-cf2e4630f4d2",
   "metadata": {},
   "outputs": [
    {
     "name": "stdout",
     "output_type": "stream",
     "text": [
      "{'name': 'Alice', 'age': 30}\n"
     ]
    }
   ],
   "source": [
    "person = {\"name\": \"Alice\", \"age\": 30}\n",
    "print(person)"
   ]
  },
  {
   "cell_type": "markdown",
   "id": "4cc15fe1-dc20-4f5a-abd9-9e02ac4b3406",
   "metadata": {},
   "source": [
    "# QUES 5: Why might you use a set instead of a list in Python?"
   ]
  },
  {
   "cell_type": "markdown",
   "id": "419a2b3f-f236-4f8e-a484-7fb0a1a901be",
   "metadata": {},
   "source": [
    "\n",
    "ANS: # Several important reasons:\n",
    "\n",
    "#Automatic Duplicate Removal - A set automatically removes duplicates.\n",
    "\n",
    "#Faster Membership Testing:\n",
    "\n",
    "> Checking if an item exists in a set is much faster (O(1)) than in a list (O(n)).\n",
    "> Use case: if x in my_set: is much faster than if x in my_list: for large datasets.\n",
    "\n",
    "#Set Operations: Sets support powerful operations like union, intersection, difference.\n",
    "\n",
    "#Unordered Collection: Since sets are unordered, they are generally used when the order of elements doesn't matter."
   ]
  },
  {
   "cell_type": "code",
   "execution_count": 18,
   "id": "b1ada7bf-f37d-4c78-ad54-dac760485fbc",
   "metadata": {},
   "outputs": [
    {
     "name": "stdout",
     "output_type": "stream",
     "text": [
      "{1, 2, 3}\n"
     ]
    }
   ],
   "source": [
    "my_list = [1, 2, 2, 3]\n",
    "my_set = set(my_list) \n",
    "print (my_set)"
   ]
  },
  {
   "cell_type": "code",
   "execution_count": 4,
   "id": "4c02f581-b19e-47fb-a2bc-5b0868da480e",
   "metadata": {},
   "outputs": [
    {
     "name": "stdout",
     "output_type": "stream",
     "text": [
      "{3}\n",
      "{1, 2, 3, 4, 5}\n"
     ]
    }
   ],
   "source": [
    "a = {1, 2, 3}\n",
    "b = {3, 4, 5}\n",
    "print(a & b)    # intersection: {3}\n",
    "print(a | b)    # union: {1, 2, 3, 4, 5}"
   ]
  },
  {
   "cell_type": "markdown",
   "id": "46f4f3ad-e9f7-4b66-b205-e978880be4b3",
   "metadata": {},
   "source": [
    "# QUES 6: What is a string in Python, and how is it different from a list?"
   ]
  },
  {
   "cell_type": "markdown",
   "id": "4f446677-68f6-442a-9d75-9c316c1d5f1d",
   "metadata": {},
   "source": [
    "\n",
    "ANS: A string in Python is an immutable sequence of characters used to represent text, while a list is a mutable sequence that can contain elements of any type.\n",
    "\n",
    "#Key Differences:\n",
    "\n",
    "#String:\n",
    "\n",
    "> Type of elements - Only characters (text)\t\n",
    "> Mutability - Immutable (cannot change in place)\t\n",
    "> Syntax - Quoted text (\"hello\" or 'hi')\t\n",
    "> Operations - Text-specific (e.g., .upper(), .split())\t\n",
    "> Usage - For working with text\t\n",
    "\n",
    "#List:\n",
    "\n",
    "> Type of elements - Any type (e.g., int, float, string)\n",
    "> Mutability - Mutable (can change elements)\n",
    "> Syntax - Square brackets ([1, 2, \"a\"])\n",
    "> Operations - General-purpose (e.g., .append(), .sort())\n",
    "> Usage - For collections of mixed or same-type data"
   ]
  },
  {
   "cell_type": "code",
   "execution_count": 5,
   "id": "b79015bc-962a-475b-80ed-2839193a60f7",
   "metadata": {},
   "outputs": [
    {
     "name": "stdout",
     "output_type": "stream",
     "text": [
      "h\n",
      "['H', 'e', 'l', 'l', 'o']\n"
     ]
    }
   ],
   "source": [
    "# String\n",
    "\n",
    "s = \"hello\"\n",
    "print(s[0])       # 'h'\n",
    "# s[0] = 'H'      # Error: strings are immutable\n",
    "\n",
    "# List\n",
    "\n",
    "l = ['h', 'e', 'l', 'l', 'o']\n",
    "l[0] = 'H'         \n",
    "print(l)          "
   ]
  },
  {
   "cell_type": "markdown",
   "id": "2dbc84e6-c2a2-4f6d-8514-b447a2e5a693",
   "metadata": {},
   "source": [
    "# QUES 7: How do tuples ensure data integrity in Python?"
   ]
  },
  {
   "cell_type": "markdown",
   "id": "dbf9f7da-fe28-4665-8269-5bb3c3d519e2",
   "metadata": {},
   "source": [
    "\n",
    "ANS: Tuples help ensure data integrity in Python by being immutable, meaning their contents cannot be changed after creation.\n",
    "\n",
    "#How that contributes to data integrity:\n",
    "\n",
    "#Immutability:\n",
    "\n",
    "> Once a tuple is created, its size and elements cannot be altered.\n",
    "> This prevents accidental or unauthorized modifications.\n",
    "\n",
    "#Safe to Use as Keys in Dictionaries or Elements in Sets:\n",
    "\n",
    "> Because they are immutable (and hashable if they only contain hashable items), tuples can be used as dictionary keys or set elements—unlike lists.\n",
    "> This makes them useful for ensuring that key data structures remain consistent.\n",
    "\n",
    "#Reliable for Fixed Collections:\n",
    "\n",
    "> Tuples are ideal for grouping related but fixed data, such as database rows, function return values, or configuration settings.\n",
    "> This helps communicate to other developers (or to yourself) that the data should not change.\n",
    "\n",
    "#Less Memory and Slightly Faster:\n",
    "\n",
    "> Tuples consume less memory and are faster to access than lists, which makes them efficient for read-only data."
   ]
  },
  {
   "cell_type": "code",
   "execution_count": null,
   "id": "1dc5fdf2-3fdf-459d-bc45-c36d1d4834e9",
   "metadata": {},
   "outputs": [],
   "source": [
    "data = (42, \"John\", True)\n",
    "data[0] = 100  # Raises TypeError"
   ]
  },
  {
   "cell_type": "code",
   "execution_count": 19,
   "id": "d21b6775-52f3-49dd-ad6c-9bcb52079c28",
   "metadata": {},
   "outputs": [
    {
     "name": "stdout",
     "output_type": "stream",
     "text": [
      "{(40.7128, -74.006): 'Dubai'}\n"
     ]
    }
   ],
   "source": [
    "coordinates = {(40.7128, -74.0060): \"Dubai\"}\n",
    "print (coordinates)"
   ]
  },
  {
   "cell_type": "markdown",
   "id": "348ef640-8394-47f6-857f-8f2f3be0c21f",
   "metadata": {},
   "source": [
    "# QUES 8: What is a hash table, and how does it relate to dictionaries in Python?"
   ]
  },
  {
   "cell_type": "markdown",
   "id": "af5f8f62-0c80-458a-b5c9-89d4a0ece0a9",
   "metadata": {},
   "source": [
    "\n",
    "ANS: A hash table is a data structure that stores key-value pairs and allows for very fast data lookup, insertion, and deletion—on average in constant time O(1). In Python, the dictionary (dict) is implemented using a hash table.\n",
    "\n",
    "#How a Hash Table Works?\n",
    "\n",
    "#Hash Function:\n",
    "\n",
    "> A key is passed through a hash function, which converts it into a hash code (a number).\n",
    "> Python uses the built-in hash() function for this.\n",
    "\n",
    "#Indexing:\n",
    "\n",
    "> The hash code is mapped to an index in an internal array.\n",
    "> That index determines where the value is stored.\n",
    "\n",
    "#Handling Collisions:\n",
    "\n",
    "> If two different keys produce the same index (a collision), Python resolves it using a method like open addressing or chaining.\n",
    "> This ensures each key-value pair is uniquely stored.\n",
    "\n",
    "#Key Characteristics:\n",
    "\n",
    "> Fast lookup - person[\"name\"] is fast because of direct indexing via hashing.\n",
    "> Key restrictions - Only hashable (immutable) objects can be keys (e.g., strings, numbers, tuples)."
   ]
  },
  {
   "cell_type": "code",
   "execution_count": 20,
   "id": "e4130a30-0d79-48d0-9198-71b63fc7def2",
   "metadata": {},
   "outputs": [
    {
     "name": "stdout",
     "output_type": "stream",
     "text": [
      "{'name': 'Jasmine', 'age': 30}\n"
     ]
    }
   ],
   "source": [
    "person = {\"name\": \"Jasmine\", \"age\": 30}\n",
    "print (person)"
   ]
  },
  {
   "cell_type": "markdown",
   "id": "25626fe9-df33-49d4-ba82-9d5bfb1e6a0b",
   "metadata": {},
   "source": [
    "# QUES 9: Can lists contain different data types in Python?"
   ]
  },
  {
   "cell_type": "markdown",
   "id": "d6d04300-cee3-452a-8e6e-1d13a4c79b63",
   "metadata": {},
   "source": [
    "\n",
    "ANS: Yes, lists in Python can contain elements of different data types. This flexibility is one of the strengths of Python's dynamic typing system.\n",
    "\n",
    "#When It's Useful?\n",
    "\n",
    "> Handling JSON-like data\n",
    "> Collecting diverse outputs from a function\n",
    "> Working with rows of mixed-type data (like in spreadsheets)"
   ]
  },
  {
   "cell_type": "code",
   "execution_count": 21,
   "id": "eefe66f7-accc-47bd-9ef1-07ea00468cd7",
   "metadata": {},
   "outputs": [
    {
     "name": "stdout",
     "output_type": "stream",
     "text": [
      "[42, 'hello', 3.14, True, [1, 2], {'key': 'value'}]\n"
     ]
    }
   ],
   "source": [
    "mixed_list = [42, \"hello\", 3.14, True, [1, 2], {\"key\": \"value\"}]\n",
    "print (mixed_list)\n",
    "\n",
    "# 42 is an integer\n",
    "# \"hello\" is a string\n",
    "# 3.14 is a float\n",
    "# True is a boolean\n",
    "# [1, 2] is another list\n",
    "# {\"key\": \"value\"} is a dictionary"
   ]
  },
  {
   "cell_type": "markdown",
   "id": "8d2fac84-46cc-414b-8135-f4edf6eaf988",
   "metadata": {},
   "source": [
    "# QUES 10: Explain why strings are immutable in Python."
   ]
  },
  {
   "cell_type": "markdown",
   "id": "8b5b5b61-4078-4c94-8137-8a376ff70b37",
   "metadata": {},
   "source": [
    "\n",
    "ANS: Strings are immutable in Python to provide efficiency, safety, and consistency in how they are used and stored. \n",
    "\n",
    "#Why?\n",
    "\n",
    "#Memory and Performance Optimization:\n",
    "\n",
    "> Immutability allows string interning, where identical strings can be stored only once in memory.\n",
    "> This saves space and speeds up comparisons since Python can just compare memory addresses.\n",
    "\n",
    "#Hashability:\n",
    "\n",
    "> Immutable objects like strings are hashable, meaning their hash value stays the same over time.\n",
    "> This allows strings to be used as dictionary keys or elements in sets.\n",
    "\n",
    "#Thread Safety and Predictability:\n",
    "\n",
    "> Since strings can't be changed after creation, they're safe to share between parts of a program without fear of unexpected side effects.\n",
    "> This is especially helpful in multi-threaded applications.\n",
    "\n",
    "#Encourages Clean Code:\n",
    "\n",
    "> Since you can't modify a string in place, Python encourages creating new strings rather than modifying existing ones.\n",
    "> This leads to clearer, more functional-style code."
   ]
  },
  {
   "cell_type": "code",
   "execution_count": 11,
   "id": "3d41e0f2-7acc-405d-a962-a7e37820aba0",
   "metadata": {},
   "outputs": [
    {
     "name": "stdout",
     "output_type": "stream",
     "text": [
      "True\n"
     ]
    }
   ],
   "source": [
    "a = \"hello\"\n",
    "b = \"hello\"\n",
    "print(a is b) "
   ]
  },
  {
   "cell_type": "code",
   "execution_count": 15,
   "id": "18f7e916-36ba-4c57-bee2-401ba514a65d",
   "metadata": {},
   "outputs": [
    {
     "name": "stdout",
     "output_type": "stream",
     "text": [
      "{'name': 'Alice'}\n"
     ]
    }
   ],
   "source": [
    "my_dict = {\"name\": \"Alice\"}# 'name' is a string key\n",
    "print(my_dict)"
   ]
  },
  {
   "cell_type": "code",
   "execution_count": 22,
   "id": "a5cbe928-1970-4dc5-8b1f-dcc7f99462af",
   "metadata": {},
   "outputs": [
    {
     "name": "stdout",
     "output_type": "stream",
     "text": [
      "HELLO\n"
     ]
    }
   ],
   "source": [
    "s = \"hello\"\n",
    "s = s.upper()       # Creates a new string, doesn't change the original\n",
    "print(s)"
   ]
  },
  {
   "cell_type": "markdown",
   "id": "fea76fc9-d2c6-467a-9ae2-54b9e4a5f5ee",
   "metadata": {},
   "source": [
    "# QUES 11: What advantages do dictionaries offer over lists for certain tasks?"
   ]
  },
  {
   "cell_type": "markdown",
   "id": "5bcdfb41-fd19-4b3a-b3ba-9bcdbe2090e1",
   "metadata": {},
   "source": [
    "\n",
    "ANS: Dictionaries offer several advantages over lists for specific tasks, primarily due to their key-value structure.\n",
    "\n",
    "#key benefits:\n",
    "\n",
    "> Fast Lookup by Key - Dictionaries provide average O(1) time complexity for lookups by key, while lists require O(n) time to find an item (unless you're accessing by index).\n",
    "\n",
    "> Meaningful Data Access - Keys in dictionaries can be descriptive (like \"name\" or \"price\"), making the code more readable and easier to maintain compared to using numeric indices in lists.\n",
    "\n",
    "> Efficient Data Organization - When working with structured data (e.g., user profiles, configuration settings), dictionaries naturally group related values together in a way that’s intuitive and scalable.\n",
    "\n",
    "> No Need for Index Tracking - With dictionaries, you don’t need to remember or manage index positions—just use the key to retrieve or update a value.\n",
    "\n",
    "> Flexible Key Types - While list indices must be integers, dictionary keys can be many immutable types (e.g., strings, tuples), allowing for more versatile indexing.\n",
    "\n",
    "> Dynamic Data Association - You can easily add or remove key-value pairs in a dictionary without affecting the rest of the structure, whereas removing items from lists may require shifting elements."
   ]
  },
  {
   "cell_type": "code",
   "execution_count": 1,
   "id": "2e5cebcc-f601-4cc6-abc0-c0f7d9b47196",
   "metadata": {},
   "outputs": [
    {
     "name": "stdout",
     "output_type": "stream",
     "text": [
      "25\n"
     ]
    }
   ],
   "source": [
    "people = {\"Alice\": 30, \"Bob\": 25, \"Charlie\": 35}\n",
    "\n",
    "# Find Bob's age\n",
    "print(people[\"Bob\"])"
   ]
  },
  {
   "cell_type": "markdown",
   "id": "462c9922-641b-4724-9e63-0cdcacc34404",
   "metadata": {},
   "source": [
    "# QUES 12: Describe a scenario where using a tuple would be preferable over a list."
   ]
  },
  {
   "cell_type": "markdown",
   "id": "b4b8f008-2383-4b4a-8950-1d480993702e",
   "metadata": {},
   "source": [
    "\n",
    "ANS: A tuple is preferable over a list when you need an immutable, fixed-size collection of items—particularly when you want to ensure that the data cannot be altered accidentally.\n",
    "\n",
    "#Scenario: You are developing a mapping application and need to store latitude and longitude for various cities.\n",
    "\n",
    "#Why use a Tuple Here?\n",
    "\n",
    "> Immutability - Coordinates of a specific location should not be accidentally modified. Tuples provide this protection. \n",
    "> Semantic clarity - A tuple implies a fixed structure (e.g., always two elements: lat, long), signaling that the values are a single, unchangeable unit.\n",
    "> Performance - Tuples are slightly more memory-efficient and faster to access than lists."
   ]
  },
  {
   "cell_type": "code",
   "execution_count": 1,
   "id": "550fede5-5f19-4f27-92bb-07821545ce04",
   "metadata": {},
   "outputs": [
    {
     "name": "stdout",
     "output_type": "stream",
     "text": [
      "(40.7128, -74.006)\n"
     ]
    }
   ],
   "source": [
    "city_location = (40.7128, -74.0060)    # Tuple for New York City\n",
    "print (city_location)"
   ]
  },
  {
   "cell_type": "markdown",
   "id": "762f23b3-736f-4751-864e-398901979715",
   "metadata": {},
   "source": [
    "# QUES 13: How do sets handle duplicate values in Python?"
   ]
  },
  {
   "cell_type": "markdown",
   "id": "70b0baac-6490-4989-9e3c-18453f503cb1",
   "metadata": {},
   "source": [
    "\n",
    "ANS: In Python, sets automatically remove duplicate values. A set is an unordered collection of unique elements, so if you try to add duplicate items to a set, only one copy will be kept.\n",
    "\n",
    "#Key Points:\n",
    "\n",
    "> Duplicates are ignored when the set is created or updated.\n",
    "> Sets are useful when you need to eliminate duplicates or test for membership efficiently."
   ]
  },
  {
   "cell_type": "code",
   "execution_count": 2,
   "id": "caf24cad-e64e-4e46-8238-573f07a5dbb6",
   "metadata": {},
   "outputs": [
    {
     "name": "stdout",
     "output_type": "stream",
     "text": [
      "{1, 2, 3, 4}\n"
     ]
    }
   ],
   "source": [
    "my_set = {1, 2, 3, 2, 4, 1}\n",
    "print(my_set)"
   ]
  },
  {
   "cell_type": "markdown",
   "id": "9020aa19-5acf-408b-9961-8f069964cbab",
   "metadata": {},
   "source": [
    "# QUES 14: How does the “in” keyword work differently for lists and dictionaries?"
   ]
  },
  {
   "cell_type": "markdown",
   "id": "7a703dcc-cd2b-4563-9f8c-993c01310266",
   "metadata": {},
   "source": [
    "\n",
    "ANS: The \"in\" keyword is used to check for membership, but it behaves differently for lists and dictionaries in Python.\n",
    "\n",
    "#For Lists: The \"in\" keyword checks whether a value exists in the list.\n",
    "\n",
    "#For Dictionaries: The \"in\" keyword checks whether a key exists in the dictionary, not the values."
   ]
  },
  {
   "cell_type": "code",
   "execution_count": 3,
   "id": "a649d41f-7587-43c7-9026-ad05642fdfdd",
   "metadata": {},
   "outputs": [
    {
     "name": "stdout",
     "output_type": "stream",
     "text": [
      "True\n"
     ]
    }
   ],
   "source": [
    "fruits = ['apple', 'banana', 'cherry']\n",
    "print('cherry' in fruits)               # Checks if 'banana' is one of the list items"
   ]
  },
  {
   "cell_type": "code",
   "execution_count": 4,
   "id": "38200af4-f225-49c4-836c-1b335ee39a9b",
   "metadata": {},
   "outputs": [
    {
     "name": "stdout",
     "output_type": "stream",
     "text": [
      "True\n",
      "False\n"
     ]
    }
   ],
   "source": [
    "person = {'name': 'Alice', 'age': 30}\n",
    "print('name' in person)                 # Checks if 'name' is a key\n",
    "print('Alice' in person)                # 'Alice' is a value"
   ]
  },
  {
   "cell_type": "markdown",
   "id": "9784bc4e-03dd-4cb5-8f9a-79a2870162cb",
   "metadata": {},
   "source": [
    "# QUES 15: Can you modify the elements of a tuple? Explain why or why not."
   ]
  },
  {
   "cell_type": "markdown",
   "id": "66aff2b5-4e92-478f-bb6a-52df479bcf09",
   "metadata": {},
   "source": [
    "\n",
    "ANS: No, you cannot modify the elements of a tuple in Python because tuples are immutable. This means that once a tuple is created, its elements cannot be changed, added to, or removed.\n",
    "\n",
    "#Why Tuples Are Immutable?\n",
    "\n",
    "> Safety - Immutability protects data from accidental modification, especially when tuples are used as keys in dictionaries or elements in sets.\n",
    "> Performance - Tuples are slightly faster and more memory-efficient than lists.\n",
    "> Design - Immutability helps ensure predictable behavior when passing data between parts of a program."
   ]
  },
  {
   "cell_type": "code",
   "execution_count": null,
   "id": "35094a35-334c-4e89-a2a3-5f652846ad1a",
   "metadata": {},
   "outputs": [],
   "source": [
    "my_tuple = (10, 20, 30)\n",
    "my_tuple[1] = 99         # This will raise an error"
   ]
  },
  {
   "cell_type": "markdown",
   "id": "cbc0e239-2299-4766-aab4-ef6853eb0376",
   "metadata": {},
   "source": [
    "# QUES 16: What is a nested dictionary, and give an example of its use case?"
   ]
  },
  {
   "cell_type": "markdown",
   "id": "97bc6a0a-3841-4df3-8eaf-a140508bca94",
   "metadata": {},
   "source": [
    "\n",
    "ANS: A nested dictionary in Python is a dictionary where values themselves are dictionaries. It's a way to represent hierarchical or structured data, like records or grouped attributes.\n",
    "\n",
    "#Use Case: Nested dictionaries are useful when you need to model complex data structures, such as:\n",
    "\n",
    "> Student records with subject-wise grades and attendance\n",
    "> Employee databases with details like salary, role, and contact info\n",
    "> JSON-like structures from APIs or config files"
   ]
  },
  {
   "cell_type": "code",
   "execution_count": 7,
   "id": "1b25a242-3de7-4a4a-9710-6314f29299ac",
   "metadata": {},
   "outputs": [],
   "source": [
    "student = {\n",
    "    'name': 'Alice',\n",
    "    'grades': {\n",
    "        'math': 90,\n",
    "        'science': 85,\n",
    "        'english': 88\n",
    "    },\n",
    "    'attendance': {\n",
    "        'January': 'Present',\n",
    "        'February': 'Absent'\n",
    "    }\n",
    "}"
   ]
  },
  {
   "cell_type": "code",
   "execution_count": 6,
   "id": "d26c8df4-956b-43fd-afaa-34f8db679db5",
   "metadata": {},
   "outputs": [
    {
     "name": "stdout",
     "output_type": "stream",
     "text": [
      "90\n",
      "Present\n"
     ]
    }
   ],
   "source": [
    "print(student['grades']['math'])      \n",
    "print(student['attendance']['January'])"
   ]
  },
  {
   "cell_type": "markdown",
   "id": "cb06fd6c-b97e-45fe-84da-062e80f8d152",
   "metadata": {},
   "source": [
    "# QUES 17: Describe the time complexity of accessing elements in a dictionary."
   ]
  },
  {
   "cell_type": "markdown",
   "id": "a4b6cdcc-9ca4-4eee-9d12-1d419f072102",
   "metadata": {},
   "source": [
    "\n",
    "ANS: The time complexity of accessing elements in a Python dictionary is:\n",
    "\n",
    "#Average Case: O(1) (Constant Time)\n",
    "\n",
    "> Dictionaries use a hash table under the hood.\n",
    "> Keys are hashed, and their hash values determine where values are stored.\n",
    "> This allows direct access to elements by key, making lookups, insertions, and deletions very fast.\n",
    "\n",
    "#Worst Case: O(n)\n",
    "\n",
    "> In rare situations, multiple keys may hash to the same location (hash collisions).\n",
    "> Python handles collisions using techniques like open addressing, but if many collisions occur, performance can degrade."
   ]
  },
  {
   "cell_type": "code",
   "execution_count": 8,
   "id": "6e65e2cd-bf7e-45f3-985c-f504d4d08148",
   "metadata": {},
   "outputs": [
    {
     "name": "stdout",
     "output_type": "stream",
     "text": [
      "Alice\n"
     ]
    }
   ],
   "source": [
    "data = {'name': 'Alice', 'age': 30}\n",
    "print(data['name'])  # O(1) on average"
   ]
  },
  {
   "cell_type": "markdown",
   "id": "5bcd25ff-61a8-41ae-97f4-4b2f51ffc3f7",
   "metadata": {},
   "source": [
    "# QUES 18: In what situations are lists preferred over dictionaries?"
   ]
  },
  {
   "cell_type": "markdown",
   "id": "7c394646-6c47-4e58-af44-83af48041cf2",
   "metadata": {},
   "source": [
    "\n",
    "ANS: Lists are preferred over dictionaries in Python when:\n",
    "\n",
    "#Order Matters:\n",
    "\n",
    "> Lists maintain insertion order and allow access by position (index).\n",
    "> Useful when the order of items is significant, like a to-do list or queue.\n",
    "\n",
    "#You Only Need Values (Not Key-Value Pairs): \n",
    "> When you're storing a sequence of items without needing labels for each one.\n",
    "\n",
    "#Data is Homogeneous:\n",
    "> Lists are ideal for collections of similar items, such as a list of numbers or strings.\n",
    "\n",
    "#You Need to Perform Indexed Operations:\n",
    "> Lists allow slicing, appending, inserting, and sorting by index.\n",
    "\n",
    "#Memory Efficiency is Important:\n",
    "> Lists generally use less memory than dictionaries, especially for small, simple datasets."
   ]
  },
  {
   "cell_type": "code",
   "execution_count": 9,
   "id": "a4728e23-45aa-469b-8433-68829c514342",
   "metadata": {},
   "outputs": [
    {
     "name": "stdout",
     "output_type": "stream",
     "text": [
      "email\n"
     ]
    }
   ],
   "source": [
    "tasks = ['email', 'meeting', 'code review']\n",
    "print(tasks[0]) "
   ]
  },
  {
   "cell_type": "code",
   "execution_count": null,
   "id": "bb08a1bd-d515-4cee-90a9-951cc0213492",
   "metadata": {},
   "outputs": [],
   "source": [
    "temperatures = [72, 68, 75, 70]  # No need to label each value"
   ]
  },
  {
   "cell_type": "code",
   "execution_count": 13,
   "id": "8766e9f7-9c31-4724-97f3-cf48f48b99c9",
   "metadata": {},
   "outputs": [
    {
     "name": "stdout",
     "output_type": "stream",
     "text": [
      "[70, 80, 95]\n"
     ]
    }
   ],
   "source": [
    "scores = [80, 95, 70]\n",
    "scores.sort()                    # In-place sort\n",
    "print(scores)"
   ]
  },
  {
   "cell_type": "markdown",
   "id": "93e28880-20e2-4c46-822a-72dcafd2992f",
   "metadata": {},
   "source": [
    "# QUES 19: Why are dictionaries considered unordered, and how does that affect data retrieval?"
   ]
  },
  {
   "cell_type": "markdown",
   "id": "01721ce4-c033-4c41-aff7-ca0fedbe5077",
   "metadata": {},
   "source": [
    "\n",
    "ANS: Dictionaries in Python were historically considered unordered because before Python 3.7, they did not guarantee the order of key-value pairs. However:\n",
    "\n",
    "#Modern Behavior (Python 3.7 and later):\n",
    "\n",
    "> Dictionaries preserve insertion order — items remain in the order they were added.\n",
    "> Despite this, dictionaries are still accessed by key, not position (unlike lists).\n",
    "\n",
    "#How It Affects Data Retrieval? \n",
    "\n",
    "> You cannot retrieve an item by position/index\n",
    "> You must use the key to access a value"
   ]
  },
  {
   "cell_type": "code",
   "execution_count": null,
   "id": "6d656472-d142-419f-9519-a373c11c1772",
   "metadata": {},
   "outputs": [],
   "source": [
    "my_dict = {'a': 1, 'b': 2}\n",
    "print(my_dict[0])              # Error! No numeric indexing"
   ]
  },
  {
   "cell_type": "code",
   "execution_count": 15,
   "id": "6e1dcaff-3bf2-4c97-8f09-5454cc0e0798",
   "metadata": {},
   "outputs": [
    {
     "name": "stdout",
     "output_type": "stream",
     "text": [
      "1\n"
     ]
    }
   ],
   "source": [
    "print(my_dict['a']) "
   ]
  },
  {
   "cell_type": "markdown",
   "id": "99103023-5502-4005-a5d8-33bab7711be3",
   "metadata": {},
   "source": [
    "# QUES 20: Explain the difference between a list and a dictionary in terms of data retrieval."
   ]
  },
  {
   "cell_type": "markdown",
   "id": "5b4db64c-c5e3-45fb-bbc6-93bc8556e386",
   "metadata": {},
   "source": [
    "\n",
    "ANS: The main difference between a list and a dictionary in terms of data retrieval lies in how you access elements:\n",
    "\n",
    "#List: Indexed Retrieval (by Position)\n",
    "\n",
    "> Elements are accessed using integer indices.\n",
    "> Ordered collection — position matters.\n",
    "\n",
    "#Use a list when:\n",
    "> Order matters\n",
    "> Data is homogeneous\n",
    "> You access elements by position (e.g., the second item)\n",
    "\n",
    "#Dictionary: Key-Based Retrieval\n",
    "\n",
    "> Elements are accessed using keys, not indices.\n",
    "> Unordered before Python 3.7, now preserves insertion order but not accessed by position.\n",
    "\n",
    "#Use a dictionary when:\n",
    "> Data is labeled (e.g., name–value pairs)\n",
    "> You want fast access by key\n",
    "> Each item needs a unique identifier"
   ]
  },
  {
   "cell_type": "code",
   "execution_count": 16,
   "id": "21d5576a-bc29-4371-999b-65908fe12962",
   "metadata": {},
   "outputs": [
    {
     "name": "stdout",
     "output_type": "stream",
     "text": [
      "banana\n"
     ]
    }
   ],
   "source": [
    "fruits = ['apple', 'banana', 'cherry']\n",
    "print(fruits[1]) "
   ]
  },
  {
   "cell_type": "code",
   "execution_count": 17,
   "id": "849bced4-aaf7-496b-8f1d-1361f58924b9",
   "metadata": {},
   "outputs": [
    {
     "name": "stdout",
     "output_type": "stream",
     "text": [
      "30\n"
     ]
    }
   ],
   "source": [
    "person = {'name': 'Alice', 'age': 30}\n",
    "print(person['age']) "
   ]
  },
  {
   "cell_type": "markdown",
   "id": "4ad9aa01-fb58-4b1b-a3fd-e3e2c1c7db81",
   "metadata": {},
   "source": [
    "                                                      ** Practical Questions **"
   ]
  },
  {
   "cell_type": "markdown",
   "id": "15a8b63f-29fe-48b3-b30b-bfe79674409a",
   "metadata": {},
   "source": [
    "# QUES 1: Write a code to create a string with your name and print it."
   ]
  },
  {
   "cell_type": "code",
   "execution_count": 18,
   "id": "5cb54d2a-cb28-4390-929d-2f17959c8ca6",
   "metadata": {},
   "outputs": [
    {
     "name": "stdout",
     "output_type": "stream",
     "text": [
      "My name is Mansi\n"
     ]
    }
   ],
   "source": [
    "my_name = \"Mansi\"\n",
    "print(\"My name is\", my_name)"
   ]
  },
  {
   "cell_type": "markdown",
   "id": "a589ab4c-d400-44c8-bd3c-bb98989d52a7",
   "metadata": {},
   "source": [
    "# QUES 2: Write a code to find the length of the string \"Hello World\"."
   ]
  },
  {
   "cell_type": "code",
   "execution_count": 19,
   "id": "1133f11b-4524-4b54-9b75-e6e1234e8ba6",
   "metadata": {},
   "outputs": [
    {
     "name": "stdout",
     "output_type": "stream",
     "text": [
      "The length of the string is: 11\n"
     ]
    }
   ],
   "source": [
    "text = \"Hello World\"          # Define the string\n",
    "length = len(text)            # Find the length using len()\n",
    "print(\"The length of the string is:\", length)"
   ]
  },
  {
   "cell_type": "markdown",
   "id": "a4256d51-d7b8-4e3c-ad35-52d39fc4ea94",
   "metadata": {},
   "source": [
    "# QUES 3: Write a code to slice the first 3 characters from the string \"Python Programming\"."
   ]
  },
  {
   "cell_type": "code",
   "execution_count": 20,
   "id": "98e1cbb6-dbcd-46cb-b2f6-9d564c90ebdc",
   "metadata": {},
   "outputs": [
    {
     "name": "stdout",
     "output_type": "stream",
     "text": [
      "First 3 characters: Pyt\n"
     ]
    }
   ],
   "source": [
    "text = \"Python Programming\"\n",
    "sliced_text = text[:3]\n",
    "print(\"First 3 characters:\", sliced_text)"
   ]
  },
  {
   "cell_type": "markdown",
   "id": "ccdb7d60-5b61-410d-b14d-09e522ee4c20",
   "metadata": {},
   "source": [
    "# QUES 4: Write a code to convert the string \"hello\" to uppercase."
   ]
  },
  {
   "cell_type": "code",
   "execution_count": 21,
   "id": "809653ae-04b3-4df9-9cf4-fdf21aac2e78",
   "metadata": {},
   "outputs": [
    {
     "name": "stdout",
     "output_type": "stream",
     "text": [
      "Uppercase: HELLO\n"
     ]
    }
   ],
   "source": [
    "text = \"hello\"\n",
    "uppercase_text = text.upper()\n",
    "print(\"Uppercase:\", uppercase_text)"
   ]
  },
  {
   "cell_type": "markdown",
   "id": "db62c6ba-4e9a-498a-bccc-0ac956c69b8f",
   "metadata": {},
   "source": [
    "# QUES 5: Write a code to replace the word \"apple\" with \"orange\" in the string \"I like apple\"."
   ]
  },
  {
   "cell_type": "code",
   "execution_count": 22,
   "id": "18c4701d-9cc5-4ce5-8c01-55f808c0b460",
   "metadata": {},
   "outputs": [
    {
     "name": "stdout",
     "output_type": "stream",
     "text": [
      "Updated string: I like orange\n"
     ]
    }
   ],
   "source": [
    "text = \"I like apple\"\n",
    "new_text = text.replace(\"apple\", \"orange\")\n",
    "print(\"Updated string:\", new_text)"
   ]
  },
  {
   "cell_type": "markdown",
   "id": "9e324df5-687a-4874-b4a4-6ce5a56b33d2",
   "metadata": {},
   "source": [
    "# QUES 6: Write a code to create a list with numbers 1 to 5 and print it."
   ]
  },
  {
   "cell_type": "code",
   "execution_count": 23,
   "id": "c5876f54-ec7f-4633-902f-11ac79400d78",
   "metadata": {},
   "outputs": [
    {
     "name": "stdout",
     "output_type": "stream",
     "text": [
      "List of numbers: [1, 2, 3, 4, 5]\n"
     ]
    }
   ],
   "source": [
    "numbers = [1, 2, 3, 4, 5]\n",
    "print(\"List of numbers:\", numbers)"
   ]
  },
  {
   "cell_type": "markdown",
   "id": "fa61a5b6-70e9-49c4-980c-65b30d7ef59b",
   "metadata": {},
   "source": [
    "# QUES 7: Write a code to append the number 10 to the list [1, 2, 3, 4]."
   ]
  },
  {
   "cell_type": "code",
   "execution_count": 24,
   "id": "4633883b-63b3-4578-9683-e9ca49efafc1",
   "metadata": {},
   "outputs": [
    {
     "name": "stdout",
     "output_type": "stream",
     "text": [
      "Updated list: [1, 2, 3, 4, 10]\n"
     ]
    }
   ],
   "source": [
    "numbers = [1, 2, 3, 4]\n",
    "numbers.append(10)\n",
    "print(\"Updated list:\", numbers)"
   ]
  },
  {
   "cell_type": "markdown",
   "id": "6a4d7fd6-1f47-4274-ab13-da2150f5aa8e",
   "metadata": {},
   "source": [
    "# QUES 8: Write a code to remove the number 3 from the list [1, 2, 3, 4, 5]."
   ]
  },
  {
   "cell_type": "code",
   "execution_count": 25,
   "id": "43074214-8e06-4c90-983d-ff0fdf501b2e",
   "metadata": {},
   "outputs": [
    {
     "name": "stdout",
     "output_type": "stream",
     "text": [
      "Updated list: [1, 2, 4, 5]\n"
     ]
    }
   ],
   "source": [
    "numbers = [1, 2, 3, 4, 5]\n",
    "numbers.remove(3)\n",
    "print(\"Updated list:\", numbers)"
   ]
  },
  {
   "cell_type": "markdown",
   "id": "93881e4d-a529-4737-a6a8-b9677ae58f6e",
   "metadata": {},
   "source": [
    "# QUES 9: Write a code to access the second element in the list ['a', 'b', 'c', 'd']."
   ]
  },
  {
   "cell_type": "code",
   "execution_count": 26,
   "id": "731f4714-f392-4de0-8856-fe64e3e4a6fa",
   "metadata": {},
   "outputs": [
    {
     "name": "stdout",
     "output_type": "stream",
     "text": [
      "Second element: b\n"
     ]
    }
   ],
   "source": [
    "letters = ['a', 'b', 'c', 'd']\n",
    "second_element = letters[1]\n",
    "print(\"Second element:\", second_element)"
   ]
  },
  {
   "cell_type": "markdown",
   "id": "f94b2547-263a-49df-bf96-4a58b3cd8c54",
   "metadata": {},
   "source": [
    "# QUES 10: Write a code to reverse the list [10, 20, 30, 40, 50]."
   ]
  },
  {
   "cell_type": "code",
   "execution_count": 27,
   "id": "33fd7a4b-b1cb-4d56-9643-49412e7d4062",
   "metadata": {},
   "outputs": [
    {
     "name": "stdout",
     "output_type": "stream",
     "text": [
      "Reversed list: [50, 40, 30, 20, 10]\n"
     ]
    }
   ],
   "source": [
    "numbers = [10, 20, 30, 40, 50]\n",
    "numbers.reverse()\n",
    "print(\"Reversed list:\", numbers)"
   ]
  },
  {
   "cell_type": "markdown",
   "id": "28b9b6d4-4cca-4327-8a2a-e0e5e9f33e6b",
   "metadata": {},
   "source": [
    "# QUES 11: Write a code to create a tuple with the elements 100, 200, 300 and print it"
   ]
  },
  {
   "cell_type": "code",
   "execution_count": 28,
   "id": "dac27a60-2b23-4722-9110-e6aa4568d686",
   "metadata": {},
   "outputs": [
    {
     "name": "stdout",
     "output_type": "stream",
     "text": [
      "Tuple: (100, 200, 300)\n"
     ]
    }
   ],
   "source": [
    "my_tuple = (100, 200, 300)\n",
    "print(\"Tuple:\", my_tuple)"
   ]
  },
  {
   "cell_type": "markdown",
   "id": "53c45e72-2a50-4360-bbe5-d5d9f4fb3469",
   "metadata": {},
   "source": [
    "# QUES 12: Write a code to access the second-to-last element of the tuple ('red', 'green', 'blue', 'yellow')."
   ]
  },
  {
   "cell_type": "code",
   "execution_count": 29,
   "id": "fb85e3d8-2805-4926-8286-7d80388805aa",
   "metadata": {},
   "outputs": [
    {
     "name": "stdout",
     "output_type": "stream",
     "text": [
      "Second-to-last element: blue\n"
     ]
    }
   ],
   "source": [
    "colors = ('red', 'green', 'blue', 'yellow')\n",
    "second_last = colors[-2]\n",
    "print(\"Second-to-last element:\", second_last)"
   ]
  },
  {
   "cell_type": "markdown",
   "id": "64617c05-6560-40ba-bb55-41c3e8535eb3",
   "metadata": {},
   "source": [
    "# QUES 13: Write a code to find the minimum number in the tuple (10, 20, 5, 15)."
   ]
  },
  {
   "cell_type": "code",
   "execution_count": 30,
   "id": "a6359d85-4c79-4518-beed-c24dd525dbb1",
   "metadata": {},
   "outputs": [
    {
     "name": "stdout",
     "output_type": "stream",
     "text": [
      "Minimum number: 5\n"
     ]
    }
   ],
   "source": [
    "numbers = (10, 20, 5, 15)\n",
    "min_number = min(numbers)\n",
    "print(\"Minimum number:\", min_number)"
   ]
  },
  {
   "cell_type": "markdown",
   "id": "05953eeb-220a-4017-ada7-349268ac9ee2",
   "metadata": {},
   "source": [
    "# QUES 14: Write a code to find the index of the element \"cat\" in the tuple ('dog', 'cat', 'rabbit')."
   ]
  },
  {
   "cell_type": "code",
   "execution_count": 31,
   "id": "c231affd-1395-469d-9ff5-63945b130acd",
   "metadata": {},
   "outputs": [
    {
     "name": "stdout",
     "output_type": "stream",
     "text": [
      "Index of 'cat': 1\n"
     ]
    }
   ],
   "source": [
    "animals = ('dog', 'cat', 'rabbit')\n",
    "index_of_cat = animals.index('cat')\n",
    "print(\"Index of 'cat':\", index_of_cat)"
   ]
  },
  {
   "cell_type": "markdown",
   "id": "948cc218-658f-4347-bc4b-fc62a988a423",
   "metadata": {},
   "source": [
    "# QUES 15: Write a code to create a tuple containing three different fruits and check if \"kiwi\" is in it."
   ]
  },
  {
   "cell_type": "code",
   "execution_count": 32,
   "id": "512ebe42-fb1a-463a-8209-35263ca20b7e",
   "metadata": {},
   "outputs": [
    {
     "name": "stdout",
     "output_type": "stream",
     "text": [
      "Kiwi is not in the tuple.\n"
     ]
    }
   ],
   "source": [
    "fruits = ('apple', 'banana', 'orange')\n",
    "if 'kiwi' in fruits:\n",
    "    print(\"Kiwi is in the tuple.\")\n",
    "else:\n",
    "    print(\"Kiwi is not in the tuple.\")"
   ]
  },
  {
   "cell_type": "markdown",
   "id": "83c13a57-a82f-47f5-9c20-ef821c983316",
   "metadata": {},
   "source": [
    "# QUES 16: Write a code to create a set with the elements 'a', 'b', 'c' and print it."
   ]
  },
  {
   "cell_type": "code",
   "execution_count": 34,
   "id": "a472b47c-318a-4cb4-8ce3-f97fa26c87b6",
   "metadata": {},
   "outputs": [
    {
     "name": "stdout",
     "output_type": "stream",
     "text": [
      "Set: {'c', 'a', 'b'}\n"
     ]
    }
   ],
   "source": [
    "my_set = {'a', 'b', 'c'}\n",
    "print(\"Set:\", my_set)"
   ]
  },
  {
   "cell_type": "markdown",
   "id": "7878ad4b-80d0-4914-86d8-89514bbcdaa5",
   "metadata": {},
   "source": [
    "# QUES 17: Write a code to clear all elements from the set {1, 2, 3, 4, 5}."
   ]
  },
  {
   "cell_type": "code",
   "execution_count": 35,
   "id": "1930c412-49d7-4fd5-9566-2379980b00ab",
   "metadata": {},
   "outputs": [
    {
     "name": "stdout",
     "output_type": "stream",
     "text": [
      "Cleared set: set()\n"
     ]
    }
   ],
   "source": [
    "my_set = {1, 2, 3, 4, 5}\n",
    "my_set.clear()\n",
    "print(\"Cleared set:\", my_set)"
   ]
  },
  {
   "cell_type": "markdown",
   "id": "c3c14ec2-aafc-48b4-8f2b-3a7c124b22c4",
   "metadata": {},
   "source": [
    "# QUES 18: Write a code to remove the element 4 from the set {1, 2, 3, 4}."
   ]
  },
  {
   "cell_type": "code",
   "execution_count": 36,
   "id": "b581b68a-829a-4004-b149-01fe5de3fffc",
   "metadata": {},
   "outputs": [
    {
     "name": "stdout",
     "output_type": "stream",
     "text": [
      "Updated set: {1, 2, 3}\n"
     ]
    }
   ],
   "source": [
    "my_set = {1, 2, 3, 4}\n",
    "my_set.remove(4)\n",
    "print(\"Updated set:\", my_set)"
   ]
  },
  {
   "cell_type": "markdown",
   "id": "483b5036-9549-4679-9484-9231a679e5e7",
   "metadata": {},
   "source": [
    "# QUES 19: Write a code to find the union of two sets {1, 2, 3} and {3, 4, 5}."
   ]
  },
  {
   "cell_type": "code",
   "execution_count": 37,
   "id": "e8300f05-ecb5-4db1-bdff-d157b1901481",
   "metadata": {},
   "outputs": [
    {
     "name": "stdout",
     "output_type": "stream",
     "text": [
      "Union of the sets: {1, 2, 3, 4, 5}\n"
     ]
    }
   ],
   "source": [
    "set1 = {1, 2, 3}\n",
    "set2 = {3, 4, 5}\n",
    "\n",
    "union_set = set1.union(set2)            # Find the union of the two sets\n",
    "print(\"Union of the sets:\", union_set)"
   ]
  },
  {
   "cell_type": "markdown",
   "id": "376c229b-1aa6-4e40-9209-2a647ae80ad4",
   "metadata": {},
   "source": [
    "# QUES 20: Write a code to find the intersection of two sets {1, 2, 3} and {2, 3, 4}."
   ]
  },
  {
   "cell_type": "code",
   "execution_count": 38,
   "id": "0f7fb544-7b88-49f1-9f4b-9df2232a89e2",
   "metadata": {},
   "outputs": [
    {
     "name": "stdout",
     "output_type": "stream",
     "text": [
      "Intersection of the sets: {2, 3}\n"
     ]
    }
   ],
   "source": [
    "set1 = {1, 2, 3}\n",
    "set2 = {2, 3, 4}\n",
    "\n",
    "intersection_set = set1.intersection(set2)           # Find the intersection of the two sets\n",
    "print(\"Intersection of the sets:\", intersection_set)"
   ]
  },
  {
   "cell_type": "markdown",
   "id": "9b24d7cf-cc28-4967-8895-20927aa42b37",
   "metadata": {},
   "source": [
    "# QUES 21: Write a code to create a dictionary with the keys \"name\", \"age\", and \"city\", and print it."
   ]
  },
  {
   "cell_type": "code",
   "execution_count": 2,
   "id": "ae2dafa5-4c63-45f0-a555-62ea7cb8f011",
   "metadata": {},
   "outputs": [
    {
     "name": "stdout",
     "output_type": "stream",
     "text": [
      "{'name': 'Sofia', 'age': 20, 'city': 'London'}\n"
     ]
    }
   ],
   "source": [
    "person = {\"name\": \"Sofia\",\n",
    "          \"age\": 20,\n",
    "          \"city\": \"London\"}\n",
    "print(person)"
   ]
  },
  {
   "cell_type": "markdown",
   "id": "9fbe2d8c-dad9-411e-b431-017ad9613e53",
   "metadata": {},
   "source": [
    "# QUES 22: Write a code to add a new key-value pair \"country\": \"USA\" to the dictionary {'name': 'John', 'age': 25}."
   ]
  },
  {
   "cell_type": "code",
   "execution_count": 3,
   "id": "bf4d94b8-79c4-4951-9f9c-31d0cd49d329",
   "metadata": {},
   "outputs": [
    {
     "name": "stdout",
     "output_type": "stream",
     "text": [
      "{'name': 'John', 'age': 25, 'country': 'USA'}\n"
     ]
    }
   ],
   "source": [
    "person = {'name': 'John', 'age': 25}\n",
    "person['country'] = 'USA'\n",
    "print(person)"
   ]
  },
  {
   "cell_type": "markdown",
   "id": "b5575c4e-627b-4e8e-ad1d-32cb399f0e71",
   "metadata": {},
   "source": [
    "# QUES 23: Write a code to access the value associated with the key \"name\" in the dictionary {'name': 'Alice', 'age': 30}."
   ]
  },
  {
   "cell_type": "code",
   "execution_count": 4,
   "id": "6daf231a-15fc-4637-a061-d11456e10c90",
   "metadata": {},
   "outputs": [
    {
     "name": "stdout",
     "output_type": "stream",
     "text": [
      "Alice\n"
     ]
    }
   ],
   "source": [
    "person = {'name': 'Alice', 'age': 30}\n",
    "name_value = person['name']\n",
    "print(name_value)"
   ]
  },
  {
   "cell_type": "markdown",
   "id": "2daeefe7-ad02-4841-b3e6-44c872bf6d10",
   "metadata": {},
   "source": [
    "# QUES 24: Write a code to remove the key \"age\" from the dictionary {'name': 'Bob', 'age': 22, 'city': 'New York'}."
   ]
  },
  {
   "cell_type": "code",
   "execution_count": 5,
   "id": "74d17231-72a2-43e4-8e22-b902818707a4",
   "metadata": {},
   "outputs": [
    {
     "name": "stdout",
     "output_type": "stream",
     "text": [
      "{'name': 'Bob', 'city': 'New York'}\n"
     ]
    }
   ],
   "source": [
    "person = {'name': 'Bob', 'age': 22, 'city': 'New York'}\n",
    "del person['age']\n",
    "print(person)"
   ]
  },
  {
   "cell_type": "markdown",
   "id": "0ba9aef5-05df-43e2-84da-a4fa196b6e4b",
   "metadata": {},
   "source": [
    "# QUES 25: Write a code to check if the key \"city\" exists in the dictionary {'name': 'Alice', 'city': 'Paris'}."
   ]
  },
  {
   "cell_type": "code",
   "execution_count": 6,
   "id": "a9a5f0b2-4f16-42a5-8880-9854a1c28518",
   "metadata": {},
   "outputs": [
    {
     "name": "stdout",
     "output_type": "stream",
     "text": [
      "Key 'city' exists in the dictionary.\n"
     ]
    }
   ],
   "source": [
    "person = {'name': 'Alice', 'city': 'Paris'}\n",
    "\n",
    "if 'city' in person:\n",
    "    print(\"Key 'city' exists in the dictionary.\")\n",
    "else:\n",
    "    print(\"Key 'city' does not exist in the dictionary.\")"
   ]
  },
  {
   "cell_type": "markdown",
   "id": "fd292b5f-8dc2-40f3-aff2-3bd5dcde6d48",
   "metadata": {},
   "source": [
    "# QUES 26: Write a code to create a list, a tuple, and a dictionary, and print them all."
   ]
  },
  {
   "cell_type": "code",
   "execution_count": 7,
   "id": "cf64d3db-5675-4401-b7ef-21181625e359",
   "metadata": {},
   "outputs": [
    {
     "name": "stdout",
     "output_type": "stream",
     "text": [
      "List: [10, 15, 20, 25, 30]\n",
      "Tuple: ('kiwi', 'Mango', 'Strawberry')\n",
      "Dictionary: {'name': 'Diksha', 'age': 25, 'city': 'Canada'}\n"
     ]
    }
   ],
   "source": [
    "my_list = [10, 15, 20, 25, 30]                               # Create a list\n",
    "\n",
    "my_tuple = ('kiwi', 'Mango', 'Strawberry')                   # Create a tuple\n",
    "\n",
    "my_dict = {'name': 'Diksha', 'age': 25, 'city': 'Canada'}    # Create a dictionary\n",
    "\n",
    "print(\"List:\", my_list)\n",
    "print(\"Tuple:\", my_tuple)\n",
    "print(\"Dictionary:\", my_dict)"
   ]
  },
  {
   "cell_type": "markdown",
   "id": "53b6b454-5f4a-4958-8bb0-6c130201e024",
   "metadata": {},
   "source": [
    "# QUES 27: Write a code to create a list of 5 random numbers between 1 and 100, sort it in ascending order, and print the\n",
    "result.(replaced)"
   ]
  },
  {
   "cell_type": "code",
   "execution_count": 8,
   "id": "6cdc2ff0-c0dc-4393-8e47-4614ffdd9b18",
   "metadata": {},
   "outputs": [
    {
     "name": "stdout",
     "output_type": "stream",
     "text": [
      "Sorted list of random numbers: [55, 67, 74, 75, 99]\n"
     ]
    }
   ],
   "source": [
    "import random\n",
    "\n",
    "random_numbers = [random.randint(1, 100) for _ in range(5)]\n",
    "random_numbers.sort()\n",
    "print(\"Sorted list of random numbers:\", random_numbers)"
   ]
  },
  {
   "cell_type": "markdown",
   "id": "ec67fa40-1e6c-4858-9d43-d58a267cd2b3",
   "metadata": {},
   "source": [
    "# QUES 28: Write a code to create a list with strings and print the element at the third index."
   ]
  },
  {
   "cell_type": "code",
   "execution_count": 9,
   "id": "d7a8eac0-1df0-44bc-97e5-9165bb3235c0",
   "metadata": {},
   "outputs": [
    {
     "name": "stdout",
     "output_type": "stream",
     "text": [
      "Element at index 3: date\n"
     ]
    }
   ],
   "source": [
    "fruits = ['apple', 'banana', 'cherry', 'date', 'elderberry']\n",
    "print(\"Element at index 3:\", fruits[3])"
   ]
  },
  {
   "cell_type": "markdown",
   "id": "4fc512a4-786b-4425-993d-1130543def3f",
   "metadata": {},
   "source": [
    "# QUES 29: Write a code to combine two dictionaries into one and print the result."
   ]
  },
  {
   "cell_type": "code",
   "execution_count": 10,
   "id": "b1233457-cfe4-4c5b-81b6-c56f4d023b5a",
   "metadata": {},
   "outputs": [
    {
     "name": "stdout",
     "output_type": "stream",
     "text": [
      "Combined dictionary: {'name': 'Suhana', 'age': 24, 'city': 'Paris', 'country': 'France'}\n"
     ]
    }
   ],
   "source": [
    "dict1 = {'name': 'Suhana', 'age': 24}\n",
    "dict2 = {'city': 'Paris', 'country': 'France'}\n",
    "\n",
    "combined_dict = {**dict1, **dict2}\n",
    "print(\"Combined dictionary:\", combined_dict)"
   ]
  },
  {
   "cell_type": "markdown",
   "id": "509c2fe5-7a94-4696-a38c-1b551d168847",
   "metadata": {},
   "source": [
    "# QUES 30: Write a code to convert a list of strings into a set."
   ]
  },
  {
   "cell_type": "code",
   "execution_count": 11,
   "id": "3ab3baa8-6c84-40bd-9343-35cf15fe3425",
   "metadata": {},
   "outputs": [
    {
     "name": "stdout",
     "output_type": "stream",
     "text": [
      "Set: {'cherry', 'apple', 'banana'}\n"
     ]
    }
   ],
   "source": [
    "string_list = ['apple', 'banana', 'cherry', 'apple', 'banana']\n",
    "\n",
    "string_set = set(string_list)\n",
    "print(\"Set:\", string_set)"
   ]
  }
 ],
 "metadata": {
  "kernelspec": {
   "display_name": "Python 3 (ipykernel)",
   "language": "python",
   "name": "python3"
  },
  "language_info": {
   "codemirror_mode": {
    "name": "ipython",
    "version": 3
   },
   "file_extension": ".py",
   "mimetype": "text/x-python",
   "name": "python",
   "nbconvert_exporter": "python",
   "pygments_lexer": "ipython3",
   "version": "3.12.7"
  }
 },
 "nbformat": 4,
 "nbformat_minor": 5
}
